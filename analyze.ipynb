{
 "cells": [
  {
   "cell_type": "code",
   "execution_count": null,
   "metadata": {},
   "outputs": [],
   "source": [
    "from utils.process_utils import *\n",
    "import os"
   ]
  },
  {
   "cell_type": "code",
   "execution_count": 10,
   "metadata": {},
   "outputs": [],
   "source": [
    "def dict_mean_cal(output, diff_dict_name):\n",
    "    output_keys = list(output.keys())\n",
    "    dict_name_keys = list(diff_dict_name.keys())\n",
    "    output_mean = {key: {} for key in output_keys}\n",
    "    for key in output_keys:\n",
    "        diff_dict_mean = {key: {} for key in dict_name_keys}\n",
    "        for k, l in enumerate(dict_name_keys):\n",
    "            value = list(zip(*output[key][l]))\n",
    "            line = [mean(x) for x in value]; std = [np.std(x) for x in value]\n",
    "            diff_dict_mean[l] = line\n",
    "        output_mean[key] = diff_dict_mean\n",
    "    return output_mean"
   ]
  },
  {
   "cell_type": "code",
   "execution_count": 16,
   "metadata": {},
   "outputs": [],
   "source": [
    "test_model = 'llama_7b'\n",
    "filename = 'alpaca'\n",
    "diff_dict_name = {'tfidf':['TF-IDF'], 'bleu':['BLEU'], \n",
    "                'sentenceBert':['Sentence Bert'],\n",
    "                'rouge1_p':['Rouge-1 Precision'], 'rouge1_r':['Rouge-1 Recall'], 'rouge1_f':['Rouge-1 F1_score'],\n",
    "                'rouge2_p':['Rouge-2 Precision'], 'rouge2_r':['Rouge-2 Recall'], 'rouge2_f':['Rouge-2 F1_score'],\n",
    "                'rougel_p':['Rouge-L Precision'], 'rougel_r':['Rouge-L Recall'], 'rougel_f':['Rouge-L F1_score'], \n",
    "                'loglikelihood':['Log Likelihood'], 'kl':['KL-Divergence']} \n",
    "seed = 123\n",
    "if filename == 'alpaca':\n",
    "    num = 1500\n",
    "elif filename == 'med':\n",
    "    num = 100\n",
    "elif filename == 'tldr':\n",
    "    num = 120\n",
    "\n",
    "task = 'search_token_alg'\n",
    "file_path = os.path.join('results', test_model, filename, f'{task}_{num}_{seed}.json')\n",
    "with open(file_path, 'r') as json_file:\n",
    "    output_all = json.load(json_file)\n",
    "output_all = dict_mean_cal(output_all, diff_dict_name)['is_drop']"
   ]
  },
  {
   "cell_type": "code",
   "execution_count": null,
   "metadata": {},
   "outputs": [],
   "source": [
    "for key in output_all.keys():\n",
    "    print(key, output_all[key][2])"
   ]
  },
  {
   "cell_type": "code",
   "execution_count": null,
   "metadata": {},
   "outputs": [],
   "source": []
  }
 ],
 "metadata": {
  "kernelspec": {
   "display_name": "base",
   "language": "python",
   "name": "python3"
  },
  "language_info": {
   "codemirror_mode": {
    "name": "ipython",
    "version": 3
   },
   "file_extension": ".py",
   "mimetype": "text/x-python",
   "name": "python",
   "nbconvert_exporter": "python",
   "pygments_lexer": "ipython3",
   "version": "3.11.5"
  }
 },
 "nbformat": 4,
 "nbformat_minor": 2
}
